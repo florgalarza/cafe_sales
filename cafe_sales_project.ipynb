{
 "cells": [
  {
   "cell_type": "code",
   "execution_count": 1,
   "metadata": {},
   "outputs": [],
   "source": [
    "#Cargar librerías\n",
    "import pandas as pd\n",
    "import numpy as np\n",
    "import seaborn as sns\n",
    "import matplotlib.pyplot as plt"
   ]
  },
  {
   "cell_type": "code",
   "execution_count": 2,
   "metadata": {},
   "outputs": [],
   "source": [
    "#Cargar el dataset\n",
    "df = pd.read_csv(\"dirty_cafe_sales.csv\")"
   ]
  },
  {
   "cell_type": "markdown",
   "metadata": {},
   "source": [
    "### Exploración inicial"
   ]
  },
  {
   "cell_type": "code",
   "execution_count": 3,
   "metadata": {},
   "outputs": [
    {
     "name": "stdout",
     "output_type": "stream",
     "text": [
      "  Transaction ID    Item Quantity Price Per Unit Total Spent  Payment Method  \\\n",
      "0    TXN_1961373  Coffee        2            2.0         4.0     Credit Card   \n",
      "1    TXN_4977031    Cake        4            3.0        12.0            Cash   \n",
      "2    TXN_4271903  Cookie        4            1.0       ERROR     Credit Card   \n",
      "3    TXN_7034554   Salad        2            5.0        10.0         UNKNOWN   \n",
      "4    TXN_3160411  Coffee        2            2.0         4.0  Digital Wallet   \n",
      "\n",
      "   Location Transaction Date  \n",
      "0  Takeaway       2023-09-08  \n",
      "1  In-store       2023-05-16  \n",
      "2  In-store       2023-07-19  \n",
      "3   UNKNOWN       2023-04-27  \n",
      "4  In-store       2023-06-11  \n"
     ]
    }
   ],
   "source": [
    "print(df.head())"
   ]
  },
  {
   "cell_type": "code",
   "execution_count": 4,
   "metadata": {},
   "outputs": [
    {
     "name": "stdout",
     "output_type": "stream",
     "text": [
      "(10000, 8)\n"
     ]
    }
   ],
   "source": [
    "print(df.shape)"
   ]
  },
  {
   "cell_type": "code",
   "execution_count": 5,
   "metadata": {},
   "outputs": [
    {
     "name": "stdout",
     "output_type": "stream",
     "text": [
      "<class 'pandas.core.frame.DataFrame'>\n",
      "RangeIndex: 10000 entries, 0 to 9999\n",
      "Data columns (total 8 columns):\n",
      " #   Column            Non-Null Count  Dtype \n",
      "---  ------            --------------  ----- \n",
      " 0   Transaction ID    10000 non-null  object\n",
      " 1   Item              9667 non-null   object\n",
      " 2   Quantity          9862 non-null   object\n",
      " 3   Price Per Unit    9821 non-null   object\n",
      " 4   Total Spent       9827 non-null   object\n",
      " 5   Payment Method    7421 non-null   object\n",
      " 6   Location          6735 non-null   object\n",
      " 7   Transaction Date  9841 non-null   object\n",
      "dtypes: object(8)\n",
      "memory usage: 625.1+ KB\n",
      "None\n"
     ]
    }
   ],
   "source": [
    "print(df.info())"
   ]
  },
  {
   "cell_type": "code",
   "execution_count": 6,
   "metadata": {},
   "outputs": [
    {
     "data": {
      "text/plain": [
       "Transaction ID      10000\n",
       "Item                   10\n",
       "Quantity                7\n",
       "Price Per Unit          8\n",
       "Total Spent            19\n",
       "Payment Method          5\n",
       "Location                4\n",
       "Transaction Date      367\n",
       "dtype: int64"
      ]
     },
     "execution_count": 6,
     "metadata": {},
     "output_type": "execute_result"
    }
   ],
   "source": [
    "#Ver cantidad de valores unicos\n",
    "df.nunique()"
   ]
  },
  {
   "cell_type": "code",
   "execution_count": 7,
   "metadata": {},
   "outputs": [
    {
     "name": "stdout",
     "output_type": "stream",
     "text": [
      "Transaction ID         0\n",
      "Item                 333\n",
      "Quantity             138\n",
      "Price Per Unit       179\n",
      "Total Spent          173\n",
      "Payment Method      2579\n",
      "Location            3265\n",
      "Transaction Date     159\n",
      "dtype: int64\n"
     ]
    }
   ],
   "source": [
    "#Ver cantidad de valores nulos\n",
    "print(df.isna().sum())"
   ]
  },
  {
   "cell_type": "code",
   "execution_count": 9,
   "metadata": {},
   "outputs": [
    {
     "data": {
      "text/plain": [
       "Transaction ID       0.00\n",
       "Item                 3.33\n",
       "Quantity             1.38\n",
       "Price Per Unit       1.79\n",
       "Total Spent          1.73\n",
       "Payment Method      25.79\n",
       "Location            32.65\n",
       "Transaction Date     1.59\n",
       "dtype: float64"
      ]
     },
     "execution_count": 9,
     "metadata": {},
     "output_type": "execute_result"
    }
   ],
   "source": [
    "#Ver porcentaje de nulos por columna\n",
    "df.isna().mean() * 100"
   ]
  },
  {
   "cell_type": "code",
   "execution_count": 10,
   "metadata": {},
   "outputs": [
    {
     "name": "stdout",
     "output_type": "stream",
     "text": [
      "       Transaction ID   Item Quantity Price Per Unit Total Spent  \\\n",
      "count           10000   9667     9862           9821        9827   \n",
      "unique          10000     10        7              8          19   \n",
      "top       TXN_1961373  Juice        5            3.0         6.0   \n",
      "freq                1   1171     2013           2429         979   \n",
      "\n",
      "        Payment Method  Location Transaction Date  \n",
      "count             7421      6735             9841  \n",
      "unique               5         4              367  \n",
      "top     Digital Wallet  Takeaway          UNKNOWN  \n",
      "freq              2291      3022              159  \n"
     ]
    }
   ],
   "source": [
    "#Ver estadistics descriptivas\n",
    "print(df.describe())"
   ]
  },
  {
   "cell_type": "code",
   "execution_count": 12,
   "metadata": {},
   "outputs": [],
   "source": [
    "for col in df.select_dtypes(include='object').columns:\n",
    "    df[col] = df[col].astype(str).str.strip()"
   ]
  },
  {
   "cell_type": "code",
   "execution_count": 14,
   "metadata": {},
   "outputs": [],
   "source": [
    "df['Quantity'] = pd.to_numeric(df['Quantity'], errors='coerce')\n",
    "df['Price Per Unit'] = pd.to_numeric(df['Price Per Unit'], errors='coerce')\n",
    "df['Total Spent'] = pd.to_numeric(df['Total Spent'], errors='coerce')\n"
   ]
  },
  {
   "cell_type": "code",
   "execution_count": 15,
   "metadata": {},
   "outputs": [
    {
     "data": {
      "image/png": "[encoded data removed]",
      "text/plain": [
       "<Figure size 1200x400 with 3 Axes>"
      ]
     },
     "metadata": {},
     "output_type": "display_data"
    }
   ],
   "source": [
    "#Boxplot de outliers\n",
    "plt.figure(figsize=(12,4))\n",
    "plt.subplot(1,3,1)\n",
    "sns.boxplot(df['Quantity'])\n",
    "plt.title('Quantity')\n",
    "\n",
    "plt.subplot(1,3,2)\n",
    "sns.boxplot(df['Price Per Unit'])\n",
    "plt.title('Price Per Unit')\n",
    "\n",
    "plt.subplot(1,3,3)\n",
    "sns.boxplot(df['Total Spent'])\n",
    "plt.title('Total Spent')\n",
    "\n",
    "plt.show()"
   ]
  },
  {
   "cell_type": "code",
   "execution_count": null,
   "metadata": {},
   "outputs": [],
   "source": [
    "#Outliers de columna Total Spent\n",
    "Q1 = df['Total Spent'].quantile(0.25)\n",
    "Q3 = df['Total Spent'].quantile(0.75)\n",
    "IQR = Q3 - Q1\n",
    "\n",
    "lower_bound = Q1 - 1.5 * IQR\n",
    "upper_bound = Q3 + 1.5 * IQR\n",
    "\n",
    "print(f\"Q1 (25%): {Q1}\")\n",
    "print(f\"Q3 (75%): {Q3}\")\n",
    "print(f\"IQR: {IQR}\")\n",
    "print(f\"Límite inferior: {lower_bound}\")\n",
    "print(f\"Límite superior: {upper_bound}\")\n",
    "\n",
    "outliers = df[(df['Total Spent'] < lower_bound) | (df['Total Spent'] > upper_bound)]\n",
    "\n",
    "print(f\"Cantidad total de outliers: {len(outliers)}\")\n",
    "\n",
    "# Mostrar un resumen estadístico de los outliers\n",
    "print(outliers['Total Spent'].describe())"
   ]
  },
  {
   "cell_type": "code",
   "execution_count": null,
   "metadata": {},
   "outputs": [],
   "source": []
  },
  {
   "cell_type": "markdown",
   "metadata": {},
   "source": [
    "### Limpieza de columnas"
   ]
  },
  {
   "cell_type": "code",
   "execution_count": 16,
   "metadata": {},
   "outputs": [
    {
     "name": "stdout",
     "output_type": "stream",
     "text": [
      "Cantidad de NaN restantes:\n",
      "Quantity          479\n",
      "Price Per Unit    533\n",
      "Total Spent       502\n",
      "dtype: int64\n"
     ]
    }
   ],
   "source": [
    "print(\"Cantidad de NaN restantes:\")\n",
    "print(df[['Quantity', 'Price Per Unit', 'Total Spent']].isna().sum())"
   ]
  },
  {
   "cell_type": "code",
   "execution_count": 17,
   "metadata": {},
   "outputs": [
    {
     "data": {
      "text/plain": [
       "array(['Coffee', 'Cake', 'Cookie', 'Salad', 'Smoothie', 'UNKNOWN',\n",
       "       'Sandwich', 'nan', 'ERROR', 'Juice', 'Tea'], dtype=object)"
      ]
     },
     "execution_count": 17,
     "metadata": {},
     "output_type": "execute_result"
    }
   ],
   "source": [
    "df['Item'].unique()"
   ]
  },
  {
   "cell_type": "code",
   "execution_count": 18,
   "metadata": {},
   "outputs": [
    {
     "data": {
      "text/plain": [
       "array([2. , 3. , 1. , 5. , 4. , 1.5, nan])"
      ]
     },
     "execution_count": 18,
     "metadata": {},
     "output_type": "execute_result"
    }
   ],
   "source": [
    "df['Price Per Unit'].unique()"
   ]
  },
  {
   "cell_type": "code",
   "execution_count": 19,
   "metadata": {},
   "outputs": [],
   "source": [
    "df['Item'] = df['Item'].str.strip().str.capitalize()"
   ]
  },
  {
   "cell_type": "code",
   "execution_count": 20,
   "metadata": {},
   "outputs": [
    {
     "name": "stdout",
     "output_type": "stream",
     "text": [
      "Item: Coffee - Valores únicos en \"Price Per Unit\": [2.0]\n",
      "Item: Cake - Valores únicos en \"Price Per Unit\": [3.0]\n",
      "Item: Cookie - Valores únicos en \"Price Per Unit\": [1.0]\n",
      "Item: Salad - Valores únicos en \"Price Per Unit\": [5.0]\n",
      "Item: Smoothie - Valores únicos en \"Price Per Unit\": [4.0]\n",
      "Item: Unknown - Valores únicos en \"Price Per Unit\": [1.0, 1.5, 2.0, 3.0, 4.0, 5.0]\n",
      "Item: Sandwich - Valores únicos en \"Price Per Unit\": [4.0]\n",
      "Item: Error - Valores únicos en \"Price Per Unit\": [1.0, 1.5, 2.0, 3.0, 4.0, 5.0]\n",
      "Item: Juice - Valores únicos en \"Price Per Unit\": [3.0]\n",
      "Item: Tea - Valores únicos en \"Price Per Unit\": [1.5]\n"
     ]
    }
   ],
   "source": [
    "# Ver valores únicos posibles de \"Price Per Unit\" para cada valor en \"Item\"\n",
    "check_item = ['Coffee', 'Cake', 'Cookie', 'Salad', 'Smoothie', 'Unknown',\n",
    "              'Sandwich', 'Error', 'Juice', 'Tea']\n",
    "\n",
    "for item in check_item:\n",
    "    values = df[df['Item'] == item]['Price Per Unit'].dropna().unique()\n",
    "    print(f'Item: {item} - Valores únicos en \"Price Per Unit\": {sorted(values)}')"
   ]
  },
  {
   "cell_type": "code",
   "execution_count": 21,
   "metadata": {},
   "outputs": [
    {
     "name": "stdout",
     "output_type": "stream",
     "text": [
      "Item: Coffee - Valores no nulos en \"Price Per Unit\": 1108, nulos: 57\n",
      "Item: Cake - Valores no nulos en \"Price Per Unit\": 1085, nulos: 54\n",
      "Item: Cookie - Valores no nulos en \"Price Per Unit\": 1026, nulos: 66\n",
      "Item: Salad - Valores no nulos en \"Price Per Unit\": 1082, nulos: 66\n",
      "Item: Smoothie - Valores no nulos en \"Price Per Unit\": 1036, nulos: 60\n",
      "Item: Unknown - Valores no nulos en \"Price Per Unit\": 326, nulos: 18\n",
      "Item: Sandwich - Valores no nulos en \"Price Per Unit\": 1082, nulos: 49\n",
      "Item: Error - Valores no nulos en \"Price Per Unit\": 279, nulos: 13\n",
      "Item: Juice - Valores no nulos en \"Price Per Unit\": 1110, nulos: 61\n",
      "Item: Tea - Valores no nulos en \"Price Per Unit\": 1023, nulos: 66\n",
      "Item: NaN - Valores no nulos en \"Price Per Unit\": 0, nulos: 0\n"
     ]
    }
   ],
   "source": [
    "check_item = ['Coffee', 'Cake', 'Cookie', 'Salad', 'Smoothie', 'Unknown',\n",
    "              'Sandwich', 'Error', 'Juice', 'Tea', np.nan]  # Incluye NaN\n",
    "\n",
    "for item in check_item:\n",
    "    if pd.isna(item):\n",
    "        subset = df[df['Item'].isna()]['Price Per Unit']\n",
    "        item_name = 'NaN'\n",
    "    else:\n",
    "        subset = df[df['Item'] == item]['Price Per Unit']\n",
    "        item_name = item\n",
    "\n",
    "    count_non_null = subset.notna().sum()\n",
    "    count_null = subset.isna().sum()\n",
    "    print(f'Item: {item_name} - Valores no nulos en \"Price Per Unit\": {count_non_null}, nulos: {count_null}')"
   ]
  },
  {
   "cell_type": "code",
   "execution_count": 22,
   "metadata": {},
   "outputs": [],
   "source": [
    "price_item = {\n",
    "    'Coffee': 2,\n",
    "    'Cake': 3,\n",
    "    'Cookie': 1,\n",
    "    'Salad': 5,\n",
    "    'Smoothie': 4,\n",
    "    'Sandwich': 4,\n",
    "    'Juice': 3,\n",
    "    'Tea': 1.5\n",
    "}\n",
    "\n",
    "for item, price in price_item.items():\n",
    "    correct_price = (df['Item'] == item) & (df['Price Per Unit'].isna())\n",
    "    df.loc[correct_price, 'Price Per Unit'] = price"
   ]
  },
  {
   "cell_type": "code",
   "execution_count": 23,
   "metadata": {},
   "outputs": [
    {
     "name": "stdout",
     "output_type": "stream",
     "text": [
      "Item: Coffee - Valores no nulos en \"Price Per Unit\": 1165, nulos: 0\n",
      "Item: Cake - Valores no nulos en \"Price Per Unit\": 1139, nulos: 0\n",
      "Item: Cookie - Valores no nulos en \"Price Per Unit\": 1092, nulos: 0\n",
      "Item: Salad - Valores no nulos en \"Price Per Unit\": 1148, nulos: 0\n",
      "Item: Smoothie - Valores no nulos en \"Price Per Unit\": 1096, nulos: 0\n",
      "Item: Unknown - Valores no nulos en \"Price Per Unit\": 326, nulos: 18\n",
      "Item: Sandwich - Valores no nulos en \"Price Per Unit\": 1131, nulos: 0\n",
      "Item: Error - Valores no nulos en \"Price Per Unit\": 279, nulos: 13\n",
      "Item: Juice - Valores no nulos en \"Price Per Unit\": 1171, nulos: 0\n",
      "Item: Tea - Valores no nulos en \"Price Per Unit\": 1089, nulos: 0\n",
      "Item: NaN - Valores no nulos en \"Price Per Unit\": 0, nulos: 0\n"
     ]
    }
   ],
   "source": [
    "check_item = ['Coffee', 'Cake', 'Cookie', 'Salad', 'Smoothie', 'Unknown',\n",
    "              'Sandwich', 'Error', 'Juice', 'Tea', np.nan]  # Incluye NaN\n",
    "\n",
    "for item in check_item:\n",
    "    if pd.isna(item):\n",
    "        subset = df[df['Item'].isna()]['Price Per Unit']\n",
    "        item_name = 'NaN'\n",
    "    else:\n",
    "        subset = df[df['Item'] == item]['Price Per Unit']\n",
    "        item_name = item\n",
    "\n",
    "    count_non_null = subset.notna().sum()\n",
    "    count_null = subset.isna().sum()\n",
    "    print(f'Item: {item_name} - Valores no nulos en \"Price Per Unit\": {count_non_null}, nulos: {count_null}')"
   ]
  },
  {
   "cell_type": "code",
   "execution_count": 24,
   "metadata": {},
   "outputs": [],
   "source": [
    "price_to_item = {\n",
    "    2: 'Coffee',\n",
    "    3: 'Cake',\n",
    "    1: 'Cookie',\n",
    "    5: 'Salad',\n",
    "    3: 'Juice',\n",
    "    1.5: 'Tea'\n",
    "}\n",
    "\n",
    "# Máscara para valores problemáticos en 'Item'\n",
    "correct_item_name = df['Item'].isin(['Unknown', 'Error']) | df['Item'].isna()\n",
    "\n",
    "# Reemplazo condicional usando map sobre Price Per Unit\n",
    "df.loc[correct_item_name, 'Item'] = df.loc[correct_item_name, 'Price Per Unit'].map(price_to_item)"
   ]
  },
  {
   "cell_type": "code",
   "execution_count": 25,
   "metadata": {},
   "outputs": [
    {
     "name": "stdout",
     "output_type": "stream",
     "text": [
      "Item: Coffee - Valores no nulos en \"Price Per Unit\": 1245, nulos: 0\n",
      "Item: Cake - Valores no nulos en \"Price Per Unit\": 1139, nulos: 0\n",
      "Item: Cookie - Valores no nulos en \"Price Per Unit\": 1171, nulos: 0\n",
      "Item: Salad - Valores no nulos en \"Price Per Unit\": 1232, nulos: 0\n",
      "Item: Smoothie - Valores no nulos en \"Price Per Unit\": 1096, nulos: 0\n",
      "Item: Unknown - Valores no nulos en \"Price Per Unit\": 0, nulos: 0\n",
      "Item: Sandwich - Valores no nulos en \"Price Per Unit\": 1131, nulos: 0\n",
      "Item: Error - Valores no nulos en \"Price Per Unit\": 0, nulos: 0\n",
      "Item: Juice - Valores no nulos en \"Price Per Unit\": 1325, nulos: 0\n",
      "Item: Tea - Valores no nulos en \"Price Per Unit\": 1166, nulos: 0\n",
      "Item: NaN - Valores no nulos en \"Price Per Unit\": 131, nulos: 31\n"
     ]
    }
   ],
   "source": [
    "check_item = ['Coffee', 'Cake', 'Cookie', 'Salad', 'Smoothie', 'Unknown',\n",
    "              'Sandwich', 'Error', 'Juice', 'Tea', np.nan]  # Incluye NaN\n",
    "\n",
    "for item in check_item:\n",
    "    if pd.isna(item):\n",
    "        subset = df[df['Item'].isna()]['Price Per Unit']\n",
    "        item_name = 'NaN'\n",
    "    else:\n",
    "        subset = df[df['Item'] == item]['Price Per Unit']\n",
    "        item_name = item\n",
    "\n",
    "    count_non_null = subset.notna().sum()\n",
    "    count_null = subset.isna().sum()\n",
    "    print(f'Item: {item_name} - Valores no nulos en \"Price Per Unit\": {count_non_null}, nulos: {count_null}')"
   ]
  },
  {
   "cell_type": "code",
   "execution_count": 26,
   "metadata": {},
   "outputs": [
    {
     "data": {
      "text/plain": [
       "array([ 2.,  4.,  5.,  3.,  1., nan])"
      ]
     },
     "execution_count": 26,
     "metadata": {},
     "output_type": "execute_result"
    }
   ],
   "source": [
    "df['Quantity'].unique()"
   ]
  },
  {
   "cell_type": "code",
   "execution_count": 27,
   "metadata": {},
   "outputs": [
    {
     "data": {
      "text/plain": [
       "array([2. , 3. , 1. , 5. , 4. , 1.5, nan])"
      ]
     },
     "execution_count": 27,
     "metadata": {},
     "output_type": "execute_result"
    }
   ],
   "source": [
    "df['Price Per Unit'].unique()"
   ]
  },
  {
   "cell_type": "code",
   "execution_count": 28,
   "metadata": {},
   "outputs": [
    {
     "data": {
      "text/plain": [
       "array([ 4. , 12. ,  nan, 10. , 20. ,  9. , 16. , 15. , 25. ,  8. ,  5. ,\n",
       "        3. ,  6. ,  2. ,  1. ,  7.5,  4.5,  1.5])"
      ]
     },
     "execution_count": 28,
     "metadata": {},
     "output_type": "execute_result"
    }
   ],
   "source": [
    "df['Total Spent'].unique()"
   ]
  },
  {
   "cell_type": "code",
   "execution_count": 29,
   "metadata": {},
   "outputs": [],
   "source": [
    "correct_error = df['Total Spent'].astype(str).str.strip().str.lower() == 'ERROR'\n",
    "df.loc[correct_error, 'Total Spent'] = (\n",
    "    df.loc[correct_error, 'Quantity'] * df.loc[correct_error, 'Price Per Unit']\n",
    ")\n",
    "df['Total Spent'] = pd.to_numeric(df['Total Spent'], errors='coerce')"
   ]
  },
  {
   "cell_type": "code",
   "execution_count": 30,
   "metadata": {},
   "outputs": [
    {
     "data": {
      "text/plain": [
       "0"
      ]
     },
     "execution_count": 30,
     "metadata": {},
     "output_type": "execute_result"
    }
   ],
   "source": [
    "df['Total Spent'].astype(str).str.strip().str.lower().eq('error').sum()"
   ]
  },
  {
   "cell_type": "code",
   "execution_count": 31,
   "metadata": {},
   "outputs": [],
   "source": [
    "correct_quantity = df['Quantity'].isna() & df['Price Per Unit'].notna() & df['Total Spent'].notna()\n",
    "df.loc[correct_quantity, 'Quantity'] = df.loc[correct_quantity, 'Total Spent'] / df.loc[correct_quantity, 'Price Per Unit']"
   ]
  },
  {
   "cell_type": "code",
   "execution_count": 32,
   "metadata": {},
   "outputs": [],
   "source": [
    "correct_unit_price = df['Price Per Unit'].isna() & df['Quantity'].notna() & df['Total Spent'].notna()\n",
    "df.loc[correct_unit_price, 'Price Per Unit'] = df.loc[correct_unit_price, 'Total Spent'] / df.loc[correct_unit_price, 'Quantity']"
   ]
  },
  {
   "cell_type": "code",
   "execution_count": 33,
   "metadata": {},
   "outputs": [
    {
     "name": "stdout",
     "output_type": "stream",
     "text": [
      "Cantidad de NaN restantes:\n",
      "Quantity           23\n",
      "Price Per Unit      6\n",
      "Total Spent       502\n",
      "dtype: int64\n"
     ]
    }
   ],
   "source": [
    "print(\"Cantidad de NaN restantes:\")\n",
    "print(df[['Quantity', 'Price Per Unit', 'Total Spent']].isna().sum())"
   ]
  }
 ],
 "metadata": {
  "kernelspec": {
   "display_name": "base",
   "language": "python",
   "name": "python3"
  },
  "language_info": {
   "codemirror_mode": {
    "name": "ipython",
    "version": 3
   },
   "file_extension": ".py",
   "mimetype": "text/x-python",
   "name": "python",
   "nbconvert_exporter": "python",
   "pygments_lexer": "ipython3",
   "version": "3.11.7"
  }
 },
 "nbformat": 4,
 "nbformat_minor": 2
}
