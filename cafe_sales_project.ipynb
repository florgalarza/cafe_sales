{
 "cells": [
  {
   "cell_type": "code",
   "execution_count": 1,
   "metadata": {},
   "outputs": [],
   "source": [
    "#Cargar librerías\n",
    "import pandas as pd\n",
    "import numpy as np\n",
    "import seaborn as sn\n",
    "import matplotlib.pyplot as plt"
   ]
  },
  {
   "cell_type": "code",
   "execution_count": 2,
   "metadata": {},
   "outputs": [],
   "source": [
    "#Cargar el dataset\n",
    "df = pd.read_csv(\"dirty_cafe_sales.csv\")"
   ]
  },
  {
   "cell_type": "markdown",
   "metadata": {},
   "source": [
    "### Análisis inicial y limpieza "
   ]
  },
  {
   "cell_type": "code",
   "execution_count": 3,
   "metadata": {},
   "outputs": [
    {
     "name": "stdout",
     "output_type": "stream",
     "text": [
      "  Transaction ID    Item Quantity Price Per Unit Total Spent  Payment Method  \\\n",
      "0    TXN_1961373  Coffee        2            2.0         4.0     Credit Card   \n",
      "1    TXN_4977031    Cake        4            3.0        12.0            Cash   \n",
      "2    TXN_4271903  Cookie        4            1.0       ERROR     Credit Card   \n",
      "3    TXN_7034554   Salad        2            5.0        10.0         UNKNOWN   \n",
      "4    TXN_3160411  Coffee        2            2.0         4.0  Digital Wallet   \n",
      "\n",
      "   Location Transaction Date  \n",
      "0  Takeaway       2023-09-08  \n",
      "1  In-store       2023-05-16  \n",
      "2  In-store       2023-07-19  \n",
      "3   UNKNOWN       2023-04-27  \n",
      "4  In-store       2023-06-11  \n"
     ]
    }
   ],
   "source": [
    "print(df.head())"
   ]
  },
  {
   "cell_type": "code",
   "execution_count": 4,
   "metadata": {},
   "outputs": [
    {
     "name": "stdout",
     "output_type": "stream",
     "text": [
      "(10000, 8)\n"
     ]
    }
   ],
   "source": [
    "print(df.shape)"
   ]
  },
  {
   "cell_type": "code",
   "execution_count": 5,
   "metadata": {},
   "outputs": [
    {
     "name": "stdout",
     "output_type": "stream",
     "text": [
      "<class 'pandas.core.frame.DataFrame'>\n",
      "RangeIndex: 10000 entries, 0 to 9999\n",
      "Data columns (total 8 columns):\n",
      " #   Column            Non-Null Count  Dtype \n",
      "---  ------            --------------  ----- \n",
      " 0   Transaction ID    10000 non-null  object\n",
      " 1   Item              9667 non-null   object\n",
      " 2   Quantity          9862 non-null   object\n",
      " 3   Price Per Unit    9821 non-null   object\n",
      " 4   Total Spent       9827 non-null   object\n",
      " 5   Payment Method    7421 non-null   object\n",
      " 6   Location          6735 non-null   object\n",
      " 7   Transaction Date  9841 non-null   object\n",
      "dtypes: object(8)\n",
      "memory usage: 625.1+ KB\n",
      "None\n"
     ]
    }
   ],
   "source": [
    "print(df.info())"
   ]
  },
  {
   "cell_type": "code",
   "execution_count": 6,
   "metadata": {},
   "outputs": [
    {
     "data": {
      "text/plain": [
       "Transaction ID      10000\n",
       "Item                   10\n",
       "Quantity                7\n",
       "Price Per Unit          8\n",
       "Total Spent            19\n",
       "Payment Method          5\n",
       "Location                4\n",
       "Transaction Date      367\n",
       "dtype: int64"
      ]
     },
     "execution_count": 6,
     "metadata": {},
     "output_type": "execute_result"
    }
   ],
   "source": [
    "df.nunique()"
   ]
  },
  {
   "cell_type": "code",
   "execution_count": 7,
   "metadata": {},
   "outputs": [],
   "source": [
    "df['Quantity'] = pd.to_numeric(df['Quantity'], errors='coerce')\n",
    "df['Price Per Unit'] = pd.to_numeric(df['Price Per Unit'], errors='coerce')\n",
    "df['Total Spent'] = pd.to_numeric(df['Total Spent'], errors='coerce')\n"
   ]
  },
  {
   "cell_type": "code",
   "execution_count": 8,
   "metadata": {},
   "outputs": [
    {
     "name": "stdout",
     "output_type": "stream",
     "text": [
      "          Quantity  Price Per Unit  Total Spent\n",
      "count  9521.000000     9467.000000  9498.000000\n",
      "mean      3.028463        2.949984     8.924352\n",
      "std       1.419007        1.278450     6.009919\n",
      "min       1.000000        1.000000     1.000000\n",
      "25%       2.000000        2.000000     4.000000\n",
      "50%       3.000000        3.000000     8.000000\n",
      "75%       4.000000        4.000000    12.000000\n",
      "max       5.000000        5.000000    25.000000\n"
     ]
    }
   ],
   "source": [
    "print(df.describe())"
   ]
  },
  {
   "cell_type": "code",
   "execution_count": 9,
   "metadata": {},
   "outputs": [
    {
     "data": {
      "text/plain": [
       "array(['Coffee', 'Cake', 'Cookie', 'Salad', 'Smoothie', 'UNKNOWN',\n",
       "       'Sandwich', nan, 'ERROR', 'Juice', 'Tea'], dtype=object)"
      ]
     },
     "execution_count": 9,
     "metadata": {},
     "output_type": "execute_result"
    }
   ],
   "source": [
    "df['Item'].unique()"
   ]
  },
  {
   "cell_type": "code",
   "execution_count": 10,
   "metadata": {},
   "outputs": [
    {
     "data": {
      "text/plain": [
       "array([2. , 3. , 1. , 5. , 4. , 1.5, nan])"
      ]
     },
     "execution_count": 10,
     "metadata": {},
     "output_type": "execute_result"
    }
   ],
   "source": [
    "df['Price Per Unit'].unique()"
   ]
  },
  {
   "cell_type": "code",
   "execution_count": 11,
   "metadata": {},
   "outputs": [],
   "source": [
    "df['Item'] = df['Item'].str.strip().str.capitalize()"
   ]
  },
  {
   "cell_type": "code",
   "execution_count": 12,
   "metadata": {},
   "outputs": [
    {
     "name": "stdout",
     "output_type": "stream",
     "text": [
      "Item: Coffee - Valores únicos en \"Price Per Unit\": [2.0]\n",
      "Item: Cake - Valores únicos en \"Price Per Unit\": [3.0]\n",
      "Item: Cookie - Valores únicos en \"Price Per Unit\": [1.0]\n",
      "Item: Salad - Valores únicos en \"Price Per Unit\": [5.0]\n",
      "Item: Smoothie - Valores únicos en \"Price Per Unit\": [4.0]\n",
      "Item: Unknown - Valores únicos en \"Price Per Unit\": [1.0, 1.5, 2.0, 3.0, 4.0, 5.0]\n",
      "Item: Sandwich - Valores únicos en \"Price Per Unit\": [4.0]\n",
      "Item: Error - Valores únicos en \"Price Per Unit\": [1.0, 1.5, 2.0, 3.0, 4.0, 5.0]\n",
      "Item: Juice - Valores únicos en \"Price Per Unit\": [3.0]\n",
      "Item: Tea - Valores únicos en \"Price Per Unit\": [1.5]\n"
     ]
    }
   ],
   "source": [
    "# Ver valores únicos posibles de \"Price Per Unit\" para cada valor en \"Item\"\n",
    "check_item = ['Coffee', 'Cake', 'Cookie', 'Salad', 'Smoothie', 'Unknown',\n",
    "              'Sandwich', 'Error', 'Juice', 'Tea']\n",
    "\n",
    "for item in check_item:\n",
    "    values = df[df['Item'] == item]['Price Per Unit'].dropna().unique()\n",
    "    print(f'Item: {item} - Valores únicos en \"Price Per Unit\": {sorted(values)}')"
   ]
  },
  {
   "cell_type": "code",
   "execution_count": 13,
   "metadata": {},
   "outputs": [
    {
     "name": "stdout",
     "output_type": "stream",
     "text": [
      "Item: Coffee - Valores no nulos en \"Price Per Unit\": 1108, nulos: 57\n",
      "Item: Cake - Valores no nulos en \"Price Per Unit\": 1085, nulos: 54\n",
      "Item: Cookie - Valores no nulos en \"Price Per Unit\": 1026, nulos: 66\n",
      "Item: Salad - Valores no nulos en \"Price Per Unit\": 1082, nulos: 66\n",
      "Item: Smoothie - Valores no nulos en \"Price Per Unit\": 1036, nulos: 60\n",
      "Item: Unknown - Valores no nulos en \"Price Per Unit\": 326, nulos: 18\n",
      "Item: Sandwich - Valores no nulos en \"Price Per Unit\": 1082, nulos: 49\n",
      "Item: Error - Valores no nulos en \"Price Per Unit\": 279, nulos: 13\n",
      "Item: Juice - Valores no nulos en \"Price Per Unit\": 1110, nulos: 61\n",
      "Item: Tea - Valores no nulos en \"Price Per Unit\": 1023, nulos: 66\n"
     ]
    }
   ],
   "source": [
    "#Verificar cantidad de valores nulos y no nulos para cada valor de Item\n",
    "check_item = ['Coffee', 'Cake', 'Cookie', 'Salad', 'Smoothie', 'Unknown',\n",
    "              'Sandwich', 'Error', 'Juice', 'Tea']\n",
    "\n",
    "for item in check_item:\n",
    "    subset = df[df['Item'] == item]['Price Per Unit']\n",
    "    count_non_null = subset.notna().sum()\n",
    "    count_null = subset.isna().sum()\n",
    "    print(f'Item: {item} - Valores no nulos en \"Price Per Unit\": {count_non_null}, nulos: {count_null}')"
   ]
  },
  {
   "cell_type": "code",
   "execution_count": 14,
   "metadata": {},
   "outputs": [],
   "source": [
    "#Completar valores nulos con el Unit Price de cada Item\n",
    "condition_coffee = (df['Item'] == 'Coffee') & (df['Price Per Unit'].isna())\n",
    "df.loc[condition_coffee, 'Price Per Unit'] = 2\n",
    "\n",
    "condition_cake = (df['Item'] == 'Cake') & (df['Price Per Unit'].isna())\n",
    "df.loc[condition_cake, 'Price Per Unit'] = 3\n",
    "\n",
    "condition_cookie= (df['Item'] == 'Cookie') & (df['Price Per Unit'].isna())\n",
    "df.loc[condition_cookie, 'Price Per Unit'] = 1\n",
    "\n",
    "condition_salad = (df['Item'] == 'Salad') & (df['Price Per Unit'].isna())\n",
    "df.loc[condition_salad, 'Price Per Unit'] = 5\n",
    "\n",
    "condition_smoothie = (df['Item'] == 'Smoothie') & (df['Price Per Unit'].isna())\n",
    "df.loc[condition_smoothie, 'Price Per Unit'] = 4\n",
    "\n",
    "condition_sandwich = (df['Item'] == 'Sandwich') & (df['Price Per Unit'].isna())\n",
    "df.loc[condition_sandwich, 'Price Per Unit'] = 4\n",
    "\n",
    "condition_juice = (df['Item']== 'Juice') & (df['Price Per Unit'].isna())\n",
    "df.loc[condition_juice,'Price Per Unit'] = 3\n",
    "\n",
    "condition_tea = (df[\"Item\"]== 'Tea') & (df[\"Price Per Unit\"].isna())\n",
    "df.loc[condition_tea, 'Price Per Unit'] = 1.5"
   ]
  },
  {
   "cell_type": "code",
   "execution_count": 15,
   "metadata": {},
   "outputs": [
    {
     "name": "stdout",
     "output_type": "stream",
     "text": [
      "Item: Coffee - Valores no nulos en \"Price Per Unit\": 1165, nulos: 0\n",
      "Item: Cake - Valores no nulos en \"Price Per Unit\": 1139, nulos: 0\n",
      "Item: Cookie - Valores no nulos en \"Price Per Unit\": 1092, nulos: 0\n",
      "Item: Salad - Valores no nulos en \"Price Per Unit\": 1148, nulos: 0\n",
      "Item: Smoothie - Valores no nulos en \"Price Per Unit\": 1096, nulos: 0\n",
      "Item: Unknown - Valores no nulos en \"Price Per Unit\": 326, nulos: 18\n",
      "Item: Sandwich - Valores no nulos en \"Price Per Unit\": 1131, nulos: 0\n",
      "Item: Error - Valores no nulos en \"Price Per Unit\": 279, nulos: 13\n",
      "Item: Juice - Valores no nulos en \"Price Per Unit\": 1171, nulos: 0\n",
      "Item: Tea - Valores no nulos en \"Price Per Unit\": 1089, nulos: 0\n"
     ]
    }
   ],
   "source": [
    "check_item = ['Coffee', 'Cake', 'Cookie', 'Salad', 'Smoothie', 'Unknown',\n",
    "              'Sandwich', 'Error', 'Juice', 'Tea']\n",
    "\n",
    "for item in check_item:\n",
    "    subset = df[df['Item'] == item]['Price Per Unit']\n",
    "    count_non_null = subset.notna().sum()\n",
    "    count_null = subset.isna().sum()\n",
    "    print(f'Item: {item} - Valores no nulos en \"Price Per Unit\": {count_non_null}, nulos: {count_null}')"
   ]
  },
  {
   "cell_type": "code",
   "execution_count": null,
   "metadata": {},
   "outputs": [],
   "source": []
  }
 ],
 "metadata": {
  "kernelspec": {
   "display_name": "base",
   "language": "python",
   "name": "python3"
  },
  "language_info": {
   "codemirror_mode": {
    "name": "ipython",
    "version": 3
   },
   "file_extension": ".py",
   "mimetype": "text/x-python",
   "name": "python",
   "nbconvert_exporter": "python",
   "pygments_lexer": "ipython3",
   "version": "3.11.7"
  }
 },
 "nbformat": 4,
 "nbformat_minor": 2
}
